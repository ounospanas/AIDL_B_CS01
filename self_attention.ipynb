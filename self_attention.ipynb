{
  "nbformat": 4,
  "nbformat_minor": 0,
  "metadata": {
    "colab": {
      "provenance": [],
      "authorship_tag": "ABX9TyMHJu+ReojfXP3N3j3Ziewr",
      "include_colab_link": true
    },
    "kernelspec": {
      "name": "python3",
      "display_name": "Python 3"
    },
    "language_info": {
      "name": "python"
    }
  },
  "cells": [
    {
      "cell_type": "markdown",
      "metadata": {
        "id": "view-in-github",
        "colab_type": "text"
      },
      "source": [
        "<a href=\"https://colab.research.google.com/github/ounospanas/AIDL_B_CS01/blob/main/self_attention.ipynb\" target=\"_parent\"><img src=\"https://colab.research.google.com/assets/colab-badge.svg\" alt=\"Open In Colab\"/></a>"
      ]
    },
    {
      "cell_type": "markdown",
      "source": [
        "The provided code is inspired by the book \"Build a Large Language Model From Scratch\" by Sebastian Raschka\n",
        "\n",
        "For more please have a look at the corresponding repo: https://github.com/rasbt/LLMs-from-scratch"
      ],
      "metadata": {
        "id": "zUhxMfeAC3pm"
      }
    },
    {
      "cell_type": "markdown",
      "source": [
        "Self-attention network"
      ],
      "metadata": {
        "id": "mt5wl3QIDdAU"
      }
    },
    {
      "cell_type": "code",
      "execution_count": 67,
      "metadata": {
        "id": "lereXlpWqmcv"
      },
      "outputs": [],
      "source": [
        "import torch\n",
        "import torch.nn as nn\n",
        "\n",
        "class SelfAttention_v1(nn.Module):\n",
        "  def __init__(self, d_in, d_out):\n",
        "    super().__init__()\n",
        "    self.W_query = nn.Parameter(torch.rand(d_in, d_out))\n",
        "    self.W_key = nn.Parameter(torch.rand(d_in, d_out))\n",
        "    self.W_value = nn.Parameter(torch.rand(d_in, d_out))\n",
        "  def forward(self, x):\n",
        "    keys = x @ self.W_key\n",
        "    queries = x @ self.W_query\n",
        "    values = x @ self.W_value\n",
        "    attn_scores = queries @ keys.T # omega\n",
        "    attn_weights = torch.softmax(attn_scores / keys.shape[1]**0.5, dim=-1)\n",
        "    context_vec = attn_weights @ values\n",
        "\n",
        "    return context_vec, attn_scores\n"
      ]
    },
    {
      "cell_type": "code",
      "source": [
        "# assume these as embeddings of the sentence: \"Your journey starts with one step\"\n",
        "input_embeddings = torch.tensor(\n",
        "  [[0.43, 0.15, 0.89], # Your (x^1)\n",
        "  [0.55, 0.87, 0.66], # journey (x^2)\n",
        "  [0.57, 0.85, 0.64], # starts (x^3)\n",
        "  [0.22, 0.58, 0.33], # with (x^4)\n",
        "  [0.77, 0.25, 0.10], # one (x^5)\n",
        "  [0.05, 0.80, 0.55]] # step (x^6)\n",
        "  )"
      ],
      "metadata": {
        "id": "ixRvxvokz8Mi"
      },
      "execution_count": 68,
      "outputs": []
    },
    {
      "cell_type": "code",
      "source": [
        "# create positional embeddings\n",
        "torch.manual_seed(123)\n",
        "context_length = len(input_embeddings)\n",
        "output_dim = 3\n",
        "\n",
        "pos_embedding_layer = torch.nn.Embedding(context_length, output_dim)\n",
        "pos_embeddings = pos_embedding_layer(torch.arange(context_length))\n",
        "print(pos_embeddings)"
      ],
      "metadata": {
        "colab": {
          "base_uri": "https://localhost:8080/"
        },
        "id": "Lfi7SYB6Bh2q",
        "outputId": "54049c2c-cc3a-487d-899e-d6c4e0760d0c"
      },
      "execution_count": 69,
      "outputs": [
        {
          "output_type": "stream",
          "name": "stdout",
          "text": [
            "tensor([[ 0.3374, -0.1778, -0.1690],\n",
            "        [ 0.9178,  1.5810,  1.3010],\n",
            "        [ 1.2753, -0.2010, -0.1606],\n",
            "        [-0.4015,  0.9666, -1.1481],\n",
            "        [-1.1589,  0.3255, -0.6315],\n",
            "        [-2.8400, -0.7849, -1.4096]], grad_fn=<EmbeddingBackward0>)\n"
          ]
        }
      ]
    },
    {
      "cell_type": "code",
      "source": [
        "# element-wise add embeddings\n",
        "embeddings = pos_embeddings + input_embeddings"
      ],
      "metadata": {
        "id": "QkTNkFhABzZx"
      },
      "execution_count": 70,
      "outputs": []
    },
    {
      "cell_type": "code",
      "source": [
        "# initialize network\n",
        "torch.manual_seed(123)\n",
        "sam = SelfAttention_v1(3,2)"
      ],
      "metadata": {
        "id": "DYyKKE5azL1u"
      },
      "execution_count": 71,
      "outputs": []
    },
    {
      "cell_type": "code",
      "source": [
        "output, attn_scores = sam(embeddings)\n",
        "attn_scores"
      ],
      "metadata": {
        "id": "VIG39QCWzY5x",
        "colab": {
          "base_uri": "https://localhost:8080/"
        },
        "outputId": "9bde2faa-5ee9-4f6b-d776-3839a8c1f447"
      },
      "execution_count": 72,
      "outputs": [
        {
          "output_type": "execute_result",
          "data": {
            "text/plain": [
              "tensor([[ 6.4450e-01,  3.6325e+00,  1.1351e+00,  5.4441e-01, -1.8369e-02,\n",
              "         -1.0449e+00],\n",
              "        [ 2.6872e+00,  1.5109e+01,  4.7291e+00,  2.2521e+00, -8.3427e-02,\n",
              "         -4.3646e+00],\n",
              "        [ 1.2493e+00,  6.8984e+00,  2.1869e+00,  9.8685e-01, -6.1918e-02,\n",
              "         -2.0553e+00],\n",
              "        [ 2.3515e-01,  1.2088e+00,  4.0330e-01,  1.4285e-01, -2.8145e-02,\n",
              "         -4.0548e-01],\n",
              "        [-1.5004e-01, -8.8163e-01, -2.6758e-01, -1.4395e-01, -2.3411e-03,\n",
              "          2.3579e-01],\n",
              "        [-1.4948e+00, -8.2574e+00, -2.6169e+00, -1.1825e+00,  7.3384e-02,\n",
              "          2.4582e+00]], grad_fn=<MmBackward0>)"
            ]
          },
          "metadata": {},
          "execution_count": 72
        }
      ]
    },
    {
      "cell_type": "code",
      "source": [
        "# add causal attention\n",
        "mask = torch.triu(torch.ones(context_length, context_length), diagonal=1)\n",
        "masked = attn_scores.masked_fill(mask.bool(), -torch.inf)\n",
        "print(masked)"
      ],
      "metadata": {
        "colab": {
          "base_uri": "https://localhost:8080/"
        },
        "id": "15VFUsJ40aY_",
        "outputId": "7b945978-5e50-42f8-994d-196df753df92"
      },
      "execution_count": 73,
      "outputs": [
        {
          "output_type": "stream",
          "name": "stdout",
          "text": [
            "tensor([[ 6.4450e-01,        -inf,        -inf,        -inf,        -inf,\n",
            "                -inf],\n",
            "        [ 2.6872e+00,  1.5109e+01,        -inf,        -inf,        -inf,\n",
            "                -inf],\n",
            "        [ 1.2493e+00,  6.8984e+00,  2.1869e+00,        -inf,        -inf,\n",
            "                -inf],\n",
            "        [ 2.3515e-01,  1.2088e+00,  4.0330e-01,  1.4285e-01,        -inf,\n",
            "                -inf],\n",
            "        [-1.5004e-01, -8.8163e-01, -2.6758e-01, -1.4395e-01, -2.3411e-03,\n",
            "                -inf],\n",
            "        [-1.4948e+00, -8.2574e+00, -2.6169e+00, -1.1825e+00,  7.3384e-02,\n",
            "          2.4582e+00]], grad_fn=<MaskedFillBackward0>)\n"
          ]
        }
      ]
    },
    {
      "cell_type": "code",
      "source": [
        "import torch\n",
        "import torch.nn as nn\n",
        "\n",
        "class CausalSelfAttention_v1(nn.Module):\n",
        "  def __init__(self, d_in, d_out, dropout):\n",
        "    super().__init__()\n",
        "    self.W_query = nn.Linear(d_in, d_out)\n",
        "    self.W_key = nn.Linear(d_in, d_out)\n",
        "    self.W_value = nn.Linear(d_in, d_out)\n",
        "    self.dropout = nn.Dropout(dropout)\n",
        "\n",
        "  def forward(self, x):\n",
        "    keys = self.W_key(x)\n",
        "    queries = self.W_query(x)\n",
        "    values = self.W_value(x)\n",
        "    attn_scores = queries @ keys.T # if you have batch you have to go with queries @ keys.transpose(1, 2)\n",
        "    mask = torch.triu(torch.ones(x.shape[0], x.shape[0]), diagonal=1)\n",
        "    masked = attn_scores.masked_fill(mask.bool(), -torch.inf)\n",
        "    attn_weights = torch.softmax(masked / keys.shape[1]**0.5, dim=-1)\n",
        "    attn_weights = self.dropout(attn_weights)\n",
        "    context_vec = attn_weights @ values\n",
        "\n",
        "    return context_vec\n"
      ],
      "metadata": {
        "id": "HQpjlYjKEHoE"
      },
      "execution_count": 83,
      "outputs": []
    },
    {
      "cell_type": "code",
      "source": [
        "# initialize network\n",
        "torch.manual_seed(123)\n",
        "cam = CausalSelfAttention_v1(3,2, 0.5)"
      ],
      "metadata": {
        "id": "nVSsBLNWFBIB"
      },
      "execution_count": 84,
      "outputs": []
    },
    {
      "cell_type": "code",
      "source": [
        "output = cam(embeddings)"
      ],
      "metadata": {
        "id": "EUHYEmSyFKtQ"
      },
      "execution_count": 87,
      "outputs": []
    },
    {
      "cell_type": "code",
      "source": [
        "class MultiHeadAttentionWrapper(nn.Module):\n",
        "  def __init__(self, d_in, d_out, dropout, num_heads):\n",
        "    super().__init__()\n",
        "    self.heads = nn.ModuleList([CausalSelfAttention_v1(d_in, d_out, dropout) for _ in range(num_heads)])\n",
        "\n",
        "  def forward(self, x):\n",
        "    return torch.cat([head(x) for head in self.heads], dim=-1)"
      ],
      "metadata": {
        "id": "r9KwFQyCFOaX"
      },
      "execution_count": 88,
      "outputs": []
    },
    {
      "cell_type": "code",
      "source": [
        "# initialize network\n",
        "torch.manual_seed(123)\n",
        "mha = MultiHeadAttentionWrapper(3, 2, 0.5, 10)\n"
      ],
      "metadata": {
        "id": "uk4II1hyG07c"
      },
      "execution_count": 93,
      "outputs": []
    },
    {
      "cell_type": "code",
      "source": [
        "output = mha.forward(embeddings)"
      ],
      "metadata": {
        "id": "Ob5TZTmsG-fp"
      },
      "execution_count": 94,
      "outputs": []
    },
    {
      "cell_type": "code",
      "source": [],
      "metadata": {
        "id": "iOyi_JJZI25E"
      },
      "execution_count": null,
      "outputs": []
    }
  ]
}