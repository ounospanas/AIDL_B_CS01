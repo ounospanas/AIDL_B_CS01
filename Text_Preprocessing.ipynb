{
  "nbformat": 4,
  "nbformat_minor": 0,
  "metadata": {
    "colab": {
      "name": "Text Preprocessing",
      "provenance": [],
      "authorship_tag": "ABX9TyPreHm+xRt8d4dEPLwoMW8+",
      "include_colab_link": true
    },
    "kernelspec": {
      "name": "python3",
      "display_name": "Python 3"
    },
    "language_info": {
      "name": "python"
    }
  },
  "cells": [
    {
      "cell_type": "markdown",
      "metadata": {
        "id": "view-in-github",
        "colab_type": "text"
      },
      "source": [
        "<a href=\"https://colab.research.google.com/github/ounospanas/AIDL_B_CS01/blob/main/Text_Preprocessing.ipynb\" target=\"_parent\"><img src=\"https://colab.research.google.com/assets/colab-badge.svg\" alt=\"Open In Colab\"/></a>"
      ]
    },
    {
      "cell_type": "code",
      "metadata": {
        "colab": {
          "base_uri": "https://localhost:8080/"
        },
        "id": "HrpjqssFNRaj",
        "outputId": "bd3616f5-2dde-42e2-dbc5-eb0bee19277c"
      },
      "source": [
        "import re\n",
        "sentence = 'Hi there! I am Panagiotis.'\n",
        "print(re.match('Hi', sentence))"
      ],
      "execution_count": 1,
      "outputs": [
        {
          "output_type": "stream",
          "name": "stdout",
          "text": [
            "<re.Match object; span=(0, 2), match='Hi'>\n"
          ]
        }
      ]
    },
    {
      "cell_type": "code",
      "metadata": {
        "colab": {
          "base_uri": "https://localhost:8080/"
        },
        "id": "Qj_SbCDFNSsb",
        "outputId": "a12df7df-1651-494c-92c7-59725f644ca7"
      },
      "source": [
        "\"\"\" w+ finds the first alphanumeric character and then check the next character and if it is alphanumeric\n",
        "then include it in the match too, repeat until you run into a non-alphanumeric character. \"\"\"\n",
        "\n",
        "word_regex = r'\\w+'\n",
        "print(re.match(word_regex, sentence))"
      ],
      "execution_count": 17,
      "outputs": [
        {
          "output_type": "stream",
          "name": "stdout",
          "text": [
            "<re.Match object; span=(0, 1), match='I'>\n"
          ]
        }
      ]
    },
    {
      "cell_type": "code",
      "metadata": {
        "colab": {
          "base_uri": "https://localhost:8080/"
        },
        "id": "jilC80n1OChK",
        "outputId": "3b90eed1-1953-426a-87dc-60fee5dc9fde"
      },
      "source": [
        "word_regex = r'\\s'\n",
        "print(re.split(word_regex, sentence))"
      ],
      "execution_count": 18,
      "outputs": [
        {
          "output_type": "stream",
          "name": "stdout",
          "text": [
            "['I', \"don't\", 'feel', 'well', 'today...']\n"
          ]
        }
      ]
    },
    {
      "cell_type": "code",
      "metadata": {
        "colab": {
          "base_uri": "https://localhost:8080/"
        },
        "id": "8b3w__ixPsof",
        "outputId": "077b510e-c02a-4df2-ee64-c270855a343f"
      },
      "source": [
        "word_regex = r'\\s'\n",
        "print(re.search(word_regex, sentence))"
      ],
      "execution_count": 19,
      "outputs": [
        {
          "output_type": "stream",
          "name": "stdout",
          "text": [
            "<re.Match object; span=(1, 2), match=' '>\n"
          ]
        }
      ]
    },
    {
      "cell_type": "code",
      "metadata": {
        "colab": {
          "base_uri": "https://localhost:8080/"
        },
        "id": "G3SAe69bRDlb",
        "outputId": "6234354f-4d5f-4f60-fcd7-cdb9a14b7534"
      },
      "source": [
        "#re.match searches only at the beggining of the text\n",
        "word_regex = r'\\s'\n",
        "print(re.match(word_regex, sentence))"
      ],
      "execution_count": 20,
      "outputs": [
        {
          "output_type": "stream",
          "name": "stdout",
          "text": [
            "None\n"
          ]
        }
      ]
    },
    {
      "cell_type": "code",
      "metadata": {
        "colab": {
          "base_uri": "https://localhost:8080/"
        },
        "id": "xDnYw52ARb6p",
        "outputId": "d05357f7-f271-418b-cb73-0bc18b69cb0c"
      },
      "source": [
        "#re.find_all searches everywhere\n",
        "word_regex = r'\\s'\n",
        "print(re.findall(word_regex, sentence))"
      ],
      "execution_count": 21,
      "outputs": [
        {
          "output_type": "stream",
          "name": "stdout",
          "text": [
            "[' ', ' ', ' ', ' ']\n"
          ]
        }
      ]
    },
    {
      "cell_type": "code",
      "metadata": {
        "colab": {
          "base_uri": "https://localhost:8080/"
        },
        "id": "gDvmbInoRgI1",
        "outputId": "0dff963b-5890-4064-cfac-76f73a4cf122"
      },
      "source": [
        "import re\n",
        "\n",
        "# Write a pattern to match sentence endings: sentence_endings\n",
        "# The letter ‘r’ stands for ‘raw string’.\n",
        "sentence_endings = r\"[.?!]\"\n",
        "\n",
        "# Split my_string on sentence endings and print the result\n",
        "print(re.split(sentence_endings, sentence))\n",
        "\n",
        "# Find all capitalized words in my_string and print the result\n",
        "capitalized_words = r\"[A-Z]\\w+\"\n",
        "print(re.findall(capitalized_words,sentence))\n",
        "\n",
        "# Split my_string on spaces and print the result\n",
        "spaces = r\"\\s+\"\n",
        "print(re.split(spaces, sentence))\n",
        "\n",
        "# Find all digits in my_string and print the result\n",
        "digits = r\"\\d+\"\n",
        "print(re.findall(digits, sentence))\n"
      ],
      "execution_count": 7,
      "outputs": [
        {
          "output_type": "stream",
          "name": "stdout",
          "text": [
            "['Hi there', ' I am Panagiotis', '']\n",
            "['Hi', 'Panagiotis']\n",
            "['Hi', 'there!', 'I', 'am', 'Panagiotis.']\n",
            "[]\n"
          ]
        }
      ]
    },
    {
      "cell_type": "code",
      "metadata": {
        "colab": {
          "base_uri": "https://localhost:8080/"
        },
        "id": "vIj6MaHcTQLB",
        "outputId": "ea2df51a-a134-41da-dec7-087a5e04d537"
      },
      "source": [
        "import nltk\n",
        "nltk.download('punkt_tab')\n",
        "from nltk.tokenize import word_tokenize\n",
        "\n",
        "sentence = \"I don't feel well today...\"\n",
        "word_tokenize(sentence)"
      ],
      "execution_count": 9,
      "outputs": [
        {
          "output_type": "stream",
          "name": "stderr",
          "text": [
            "[nltk_data] Downloading package punkt_tab to /root/nltk_data...\n",
            "[nltk_data]   Unzipping tokenizers/punkt_tab.zip.\n"
          ]
        },
        {
          "output_type": "execute_result",
          "data": {
            "text/plain": [
              "['I', 'do', \"n't\", 'feel', 'well', 'today', '...']"
            ]
          },
          "metadata": {},
          "execution_count": 9
        }
      ]
    },
    {
      "cell_type": "code",
      "metadata": {
        "id": "z8JlG7OQUnQl",
        "colab": {
          "base_uri": "https://localhost:8080/"
        },
        "outputId": "7df97b31-f4a6-4707-a7cc-84fdb54f68fe"
      },
      "source": [
        "import re\n",
        "match_digits_and_words = ('[A-Za-z]+|[!,]')\n",
        "re.findall(match_digits_and_words,'Moreover, I scored 3 goals tonight! #football')"
      ],
      "execution_count": 10,
      "outputs": [
        {
          "output_type": "execute_result",
          "data": {
            "text/plain": [
              "['Moreover', ',', 'I', 'scored', 'goals', 'tonight', '!', 'football']"
            ]
          },
          "metadata": {},
          "execution_count": 10
        }
      ]
    },
    {
      "cell_type": "code",
      "metadata": {
        "colab": {
          "base_uri": "https://localhost:8080/",
          "height": 465
        },
        "id": "RXDt2S4ewlWG",
        "outputId": "3f11009e-6ff0-4753-9643-d14a185c4e02"
      },
      "source": [
        "import nltk\n",
        "nltk.download('punkt')\n",
        "\n",
        "from matplotlib import pyplot as plt\n",
        "from nltk.tokenize import word_tokenize\n",
        "words = word_tokenize(\"This is the best course ever!!!\")\n",
        "#print('Words:',words)\n",
        "\n",
        "word_lengths = [len(w) for w in words]\n",
        "#print('Word lengths:', word_lengths)\n",
        "\n",
        "plt.hist(word_lengths)\n",
        "plt.show()"
      ],
      "execution_count": 11,
      "outputs": [
        {
          "output_type": "stream",
          "name": "stderr",
          "text": [
            "[nltk_data] Downloading package punkt to /root/nltk_data...\n",
            "[nltk_data]   Package punkt is already up-to-date!\n"
          ]
        },
        {
          "output_type": "display_data",
          "data": {
            "text/plain": [
              "<Figure size 640x480 with 1 Axes>"
            ],
            "image/png": "[encoded data removed]"
          },
          "metadata": {}
        }
      ]
    },
    {
      "cell_type": "code",
      "metadata": {
        "colab": {
          "base_uri": "https://localhost:8080/"
        },
        "id": "3DERIp_Wztt3",
        "outputId": "30fb8677-f7a2-4e4b-f408-c9f92e383ffc"
      },
      "source": [
        "from nltk.tokenize import word_tokenize\n",
        "from collections import Counter\n",
        "counter = Counter(word_tokenize(\"\"\"a dog barked at a cat.\"\"\"))\n",
        "counter"
      ],
      "execution_count": 12,
      "outputs": [
        {
          "output_type": "execute_result",
          "data": {
            "text/plain": [
              "Counter({'a': 2, 'dog': 1, 'barked': 1, 'at': 1, 'cat': 1, '.': 1})"
            ]
          },
          "metadata": {},
          "execution_count": 12
        }
      ]
    },
    {
      "cell_type": "code",
      "metadata": {
        "colab": {
          "base_uri": "https://localhost:8080/"
        },
        "id": "eKGgrwJh215x",
        "outputId": "4e3e17e7-9c99-427a-f0c8-30af064c0680"
      },
      "source": [
        "import nltk\n",
        "nltk.download('stopwords')\n",
        "\n",
        "from nltk.corpus import stopwords\n",
        "text = \"\"\"a dog barked at a cat.\"\"\"\n",
        "tokens = [w for w in word_tokenize(text.lower())]\n",
        "no_stops = [t for t in tokens if t not in stopwords.words('english')]\n",
        "no_stops"
      ],
      "execution_count": 13,
      "outputs": [
        {
          "output_type": "stream",
          "name": "stderr",
          "text": [
            "[nltk_data] Downloading package stopwords to /root/nltk_data...\n",
            "[nltk_data]   Unzipping corpora/stopwords.zip.\n"
          ]
        },
        {
          "output_type": "execute_result",
          "data": {
            "text/plain": [
              "['dog', 'barked', 'cat', '.']"
            ]
          },
          "metadata": {},
          "execution_count": 13
        }
      ]
    },
    {
      "cell_type": "code",
      "metadata": {
        "colab": {
          "base_uri": "https://localhost:8080/"
        },
        "id": "xWeRptMn26Ch",
        "outputId": "9c59087c-d9e0-4f35-9e13-019043b0eeff"
      },
      "source": [
        "from nltk.stem import PorterStemmer\n",
        "from nltk.tokenize import word_tokenize\n",
        "\n",
        "ps = PorterStemmer()\n",
        "words = [\"jump\", \"jumped\", \"jumping\", \"jumps\"]\n",
        "\n",
        "for w in words:\n",
        "    print(w, ps.stem(w))"
      ],
      "execution_count": 14,
      "outputs": [
        {
          "output_type": "stream",
          "name": "stdout",
          "text": [
            "jump jump\n",
            "jumped jump\n",
            "jumping jump\n",
            "jumps jump\n"
          ]
        }
      ]
    },
    {
      "cell_type": "code",
      "metadata": {
        "colab": {
          "base_uri": "https://localhost:8080/"
        },
        "id": "MkvD-KHh49Rv",
        "outputId": "174548b8-a777-4556-801d-d514c00d8018"
      },
      "source": [
        "nltk.download('omw-1.4')\n",
        "from nltk.stem import WordNetLemmatizer\n",
        "nltk.download('wordnet')\n",
        "\n",
        "lem = WordNetLemmatizer()\n",
        "\n",
        "# pos defines if the input word is a verb, adjective, noun etc.\n",
        "print(\"sang\", lem.lemmatize(\"sang\", pos='v'))\n",
        "print(\"corpora\", lem.lemmatize(\"corpora\"))\n",
        "print(\"better\", lem.lemmatize(\"better\", pos='a'))"
      ],
      "execution_count": 15,
      "outputs": [
        {
          "output_type": "stream",
          "name": "stderr",
          "text": [
            "[nltk_data] Downloading package omw-1.4 to /root/nltk_data...\n",
            "[nltk_data] Downloading package wordnet to /root/nltk_data...\n"
          ]
        },
        {
          "output_type": "stream",
          "name": "stdout",
          "text": [
            "sang sing\n",
            "corpora corpus\n",
            "better good\n"
          ]
        }
      ]
    },
    {
      "cell_type": "code",
      "metadata": {
        "id": "ULpFi-nK9-kh",
        "colab": {
          "base_uri": "https://localhost:8080/"
        },
        "outputId": "f274b046-5b1b-4631-b83d-ffcc1ecea6d9"
      },
      "source": [
        "import nltk\n",
        "nltk.download('stopwords')\n",
        "from nltk.corpus import stopwords\n",
        "from sklearn.feature_extraction.text import TfidfVectorizer\n",
        "from sklearn.metrics.pairwise import cosine_similarity\n",
        "\n",
        "corpus = ['I work as a research in the field of computer science.',\n",
        "          'Artificial intelligence is a field of computer science',\n",
        "          'I work as a chemical engineer',]\n",
        "stop_words = set(stopwords.words('english'))\n",
        "vectorizer = TfidfVectorizer(stop_words=list(stop_words))\n",
        "\n",
        "#compute tf_idf for each sentence in the corpus\n",
        "tf_idf = vectorizer.fit_transform(corpus)\n",
        "\n",
        "# 1.0 is the maximum and 0.0 is the minimum similarity\n",
        "print('The cosine similarity of the 1st and the 2nd document is: ',\n",
        "      cosine_similarity(tf_idf[0], tf_idf[1])[0][0])\n",
        "print('The cosine similarity of the 1st and the 1st document is: ',\n",
        "      cosine_similarity(tf_idf[0], tf_idf[0])[0][0])\n",
        "print('The cosine similarity of the 1st and the 3rd document is: ',\n",
        "      cosine_similarity(tf_idf[0], tf_idf[2])[0][0])\n",
        "print('The cosine similarity of the 3rd and the 2nd document is: ',\n",
        "      cosine_similarity(tf_idf[2], tf_idf[1])[0][0])"
      ],
      "execution_count": 16,
      "outputs": [
        {
          "output_type": "stream",
          "name": "stdout",
          "text": [
            "The cosine similarity of the 1st and the 2nd document is:  0.49322195070222535\n",
            "The cosine similarity of the 1st and the 1st document is:  1.0000000000000002\n",
            "The cosine similarity of the 1st and the 3rd document is:  0.19788044431907245\n",
            "The cosine similarity of the 3rd and the 2nd document is:  0.0\n"
          ]
        },
        {
          "output_type": "stream",
          "name": "stderr",
          "text": [
            "[nltk_data] Downloading package stopwords to /root/nltk_data...\n",
            "[nltk_data]   Package stopwords is already up-to-date!\n"
          ]
        }
      ]
    },
    {
      "cell_type": "code",
      "source": [],
      "metadata": {
        "id": "qW5YtJ_UYhcE"
      },
      "execution_count": 16,
      "outputs": []
    }
  ]
}