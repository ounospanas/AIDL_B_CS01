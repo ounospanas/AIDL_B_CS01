{
  "nbformat": 4,
  "nbformat_minor": 0,
  "metadata": {
    "colab": {
      "name": "Text Preprocessing",
      "provenance": [],
      "collapsed_sections": [],
      "authorship_tag": "ABX9TyMOtoyUPWf3vLiTSCIgLo9p",
      "include_colab_link": true
    },
    "kernelspec": {
      "name": "python3",
      "display_name": "Python 3"
    },
    "language_info": {
      "name": "python"
    }
  },
  "cells": [
    {
      "cell_type": "markdown",
      "metadata": {
        "id": "view-in-github",
        "colab_type": "text"
      },
      "source": [
        "<a href=\"https://colab.research.google.com/github/ounospanas/AIDL_B_CS01/blob/main/Text_Preprocessing.ipynb\" target=\"_parent\"><img src=\"https://colab.research.google.com/assets/colab-badge.svg\" alt=\"Open In Colab\"/></a>"
      ]
    },
    {
      "cell_type": "code",
      "metadata": {
        "colab": {
          "base_uri": "https://localhost:8080/"
        },
        "id": "HrpjqssFNRaj",
        "outputId": "e1672f1c-f6a5-4b93-b988-8cd4ea72de31"
      },
      "source": [
        "import re\n",
        "sentence = 'Hi there!'\n",
        "print(re.match('Hi', sentence))"
      ],
      "execution_count": 27,
      "outputs": [
        {
          "output_type": "stream",
          "name": "stdout",
          "text": [
            "<re.Match object; span=(0, 2), match='Hi'>\n"
          ]
        }
      ]
    },
    {
      "cell_type": "code",
      "metadata": {
        "colab": {
          "base_uri": "https://localhost:8080/"
        },
        "id": "Qj_SbCDFNSsb",
        "outputId": "6f645c1d-fe07-4283-b471-d19c850d1a2d"
      },
      "source": [
        "word_regex = '\\w+'\n",
        "print(re.match(word_regex, sentence))"
      ],
      "execution_count": 28,
      "outputs": [
        {
          "output_type": "stream",
          "name": "stdout",
          "text": [
            "<re.Match object; span=(0, 2), match='Hi'>\n"
          ]
        }
      ]
    },
    {
      "cell_type": "code",
      "metadata": {
        "colab": {
          "base_uri": "https://localhost:8080/"
        },
        "id": "jilC80n1OChK",
        "outputId": "8edd67c0-5df4-4e9f-8d91-f5883cf8b051"
      },
      "source": [
        "word_regex = '\\s'\n",
        "print(re.split(word_regex, sentence))"
      ],
      "execution_count": 29,
      "outputs": [
        {
          "output_type": "stream",
          "name": "stdout",
          "text": [
            "['Hi', 'there!']\n"
          ]
        }
      ]
    },
    {
      "cell_type": "code",
      "metadata": {
        "colab": {
          "base_uri": "https://localhost:8080/"
        },
        "id": "8b3w__ixPsof",
        "outputId": "5e6584ff-6db2-4224-d3d7-e646a63aaac1"
      },
      "source": [
        "word_regex = '\\s'\n",
        "print(re.search(word_regex, sentence))"
      ],
      "execution_count": 30,
      "outputs": [
        {
          "output_type": "stream",
          "name": "stdout",
          "text": [
            "<re.Match object; span=(2, 3), match=' '>\n"
          ]
        }
      ]
    },
    {
      "cell_type": "code",
      "metadata": {
        "colab": {
          "base_uri": "https://localhost:8080/"
        },
        "id": "G3SAe69bRDlb",
        "outputId": "a83c2be1-c337-4919-a992-1c64f0fbeb3b"
      },
      "source": [
        "#re.match searches only at the beggining of the text\n",
        "word_regex = '\\s'\n",
        "print(re.match(word_regex, sentence))"
      ],
      "execution_count": 32,
      "outputs": [
        {
          "output_type": "stream",
          "name": "stdout",
          "text": [
            "None\n"
          ]
        }
      ]
    },
    {
      "cell_type": "code",
      "metadata": {
        "colab": {
          "base_uri": "https://localhost:8080/"
        },
        "id": "xDnYw52ARb6p",
        "outputId": "25c0f6a3-7d79-420b-d6ac-54347b6a660d"
      },
      "source": [
        "#re.find_all searches everywhere\n",
        "word_regex = '\\s'\n",
        "print(re.findall(word_regex, sentence))"
      ],
      "execution_count": 33,
      "outputs": [
        {
          "output_type": "stream",
          "name": "stdout",
          "text": [
            "[' ']\n"
          ]
        }
      ]
    },
    {
      "cell_type": "code",
      "metadata": {
        "colab": {
          "base_uri": "https://localhost:8080/"
        },
        "id": "gDvmbInoRgI1",
        "outputId": "464ba892-8514-43bf-dce3-a41f8377933f"
      },
      "source": [
        "import re\n",
        "\n",
        "# Write a pattern to match sentence endings: sentence_endings\n",
        "sentence_endings = r\"[.?!]\"\n",
        "\n",
        "# Split my_string on sentence endings and print the result\n",
        "print(re.split(sentence_endings, sentence))\n",
        "\n",
        "# Find all capitalized words in my_string and print the result\n",
        "capitalized_words = r\"[A-Z]\\w+\"\n",
        "print(re.findall(capitalized_words,sentence))\n",
        "\n",
        "# Split my_string on spaces and print the result\n",
        "spaces = r\"\\s+\"\n",
        "print(re.split(spaces, sentence))\n",
        "\n",
        "# Find all digits in my_string and print the result\n",
        "digits = r\"\\d+\"\n",
        "print(re.findall(digits, sentence))\n"
      ],
      "execution_count": 34,
      "outputs": [
        {
          "output_type": "stream",
          "name": "stdout",
          "text": [
            "['Hi there', '']\n",
            "['Hi']\n",
            "['Hi', 'there!']\n",
            "[]\n"
          ]
        }
      ]
    },
    {
      "cell_type": "code",
      "metadata": {
        "colab": {
          "base_uri": "https://localhost:8080/"
        },
        "id": "vIj6MaHcTQLB",
        "outputId": "9289c2d1-4909-4639-de79-b860e6c8a269"
      },
      "source": [
        "import nltk\n",
        "nltk.download('punkt')\n",
        "from nltk.tokenize import word_tokenize\n",
        "\n",
        "sentence = \"I don't feel well today...\"\n",
        "word_tokenize(sentence)"
      ],
      "execution_count": 35,
      "outputs": [
        {
          "output_type": "stream",
          "name": "stdout",
          "text": [
            "[nltk_data] Downloading package punkt to /root/nltk_data...\n",
            "[nltk_data]   Unzipping tokenizers/punkt.zip.\n"
          ]
        },
        {
          "output_type": "execute_result",
          "data": {
            "text/plain": [
              "['I', 'do', \"n't\", 'feel', 'well', 'today', '...']"
            ]
          },
          "metadata": {},
          "execution_count": 35
        }
      ]
    },
    {
      "cell_type": "code",
      "metadata": {
        "id": "z8JlG7OQUnQl",
        "colab": {
          "base_uri": "https://localhost:8080/"
        },
        "outputId": "9f49509e-62eb-449a-faaa-173bae839256"
      },
      "source": [
        "import re\n",
        "match_digits_and_words = ('[A-Za-z]+|[!,]')\n",
        "re.findall(match_digits_and_words,'Moreover, I scored 3 goals tonight! #football')"
      ],
      "execution_count": 36,
      "outputs": [
        {
          "output_type": "execute_result",
          "data": {
            "text/plain": [
              "['Moreover', ',', 'I', 'scored', 'goals', 'tonight', '!', 'football']"
            ]
          },
          "metadata": {},
          "execution_count": 36
        }
      ]
    },
    {
      "cell_type": "code",
      "metadata": {
        "colab": {
          "base_uri": "https://localhost:8080/",
          "height": 301
        },
        "id": "RXDt2S4ewlWG",
        "outputId": "7c8a5932-8f1b-4046-cbee-52587a77f6bf"
      },
      "source": [
        "import nltk\n",
        "nltk.download('punkt')\n",
        "\n",
        "from matplotlib import pyplot as plt\n",
        "from nltk.tokenize import word_tokenize\n",
        "words = word_tokenize(\"This is the best course ever!!!\")\n",
        "word_lengths = [len(w) for w in words]\n",
        "\n",
        "plt.hist(word_lengths)\n",
        "plt.show()"
      ],
      "execution_count": 37,
      "outputs": [
        {
          "output_type": "stream",
          "name": "stdout",
          "text": [
            "[nltk_data] Downloading package punkt to /root/nltk_data...\n",
            "[nltk_data]   Package punkt is already up-to-date!\n"
          ]
        },
        {
          "output_type": "display_data",
          "data": {
            "image/png": "[encoded data removed]",
            "text/plain": [
              "<Figure size 432x288 with 1 Axes>"
            ]
          },
          "metadata": {
            "needs_background": "light"
          }
        }
      ]
    },
    {
      "cell_type": "code",
      "metadata": {
        "colab": {
          "base_uri": "https://localhost:8080/"
        },
        "id": "3DERIp_Wztt3",
        "outputId": "50d930d4-77fd-45ce-bc08-d350c2b49251"
      },
      "source": [
        "from nltk.tokenize import word_tokenize\n",
        "from collections import Counter\n",
        "counter = Counter(word_tokenize(\"\"\"a dog barked at a cat.\"\"\"))\n",
        "counter"
      ],
      "execution_count": 38,
      "outputs": [
        {
          "output_type": "execute_result",
          "data": {
            "text/plain": [
              "Counter({'.': 1, 'a': 2, 'at': 1, 'barked': 1, 'cat': 1, 'dog': 1})"
            ]
          },
          "metadata": {},
          "execution_count": 38
        }
      ]
    },
    {
      "cell_type": "code",
      "metadata": {
        "colab": {
          "base_uri": "https://localhost:8080/"
        },
        "id": "eKGgrwJh215x",
        "outputId": "dbe43ff5-1ca9-4af8-a407-e82ded959454"
      },
      "source": [
        "import nltk\n",
        "nltk.download('stopwords')\n",
        "\n",
        "from nltk.corpus import stopwords\n",
        "text = \"\"\"a dog barked at a cat.\"\"\"\n",
        "tokens = [w for w in word_tokenize(text.lower())]\n",
        "no_stops = [t for t in tokens if t not in stopwords.words('english')]\n",
        "no_stops"
      ],
      "execution_count": 39,
      "outputs": [
        {
          "output_type": "stream",
          "name": "stdout",
          "text": [
            "[nltk_data] Downloading package stopwords to /root/nltk_data...\n",
            "[nltk_data]   Package stopwords is already up-to-date!\n"
          ]
        },
        {
          "output_type": "execute_result",
          "data": {
            "text/plain": [
              "['dog', 'barked', 'cat', '.']"
            ]
          },
          "metadata": {},
          "execution_count": 39
        }
      ]
    },
    {
      "cell_type": "code",
      "metadata": {
        "colab": {
          "base_uri": "https://localhost:8080/"
        },
        "id": "xWeRptMn26Ch",
        "outputId": "811bc362-5b21-44ba-dac3-800d7941ddbd"
      },
      "source": [
        "from nltk.stem import PorterStemmer\n",
        "from nltk.tokenize import word_tokenize\n",
        "  \n",
        "ps = PorterStemmer()\n",
        "words = [\"jump\", \"jumped\", \"jumping\", \"jumps\"]\n",
        " \n",
        "for w in words:\n",
        "    print(w, ps.stem(w))"
      ],
      "execution_count": 40,
      "outputs": [
        {
          "output_type": "stream",
          "name": "stdout",
          "text": [
            "jump jump\n",
            "jumped jump\n",
            "jumping jump\n",
            "jumps jump\n"
          ]
        }
      ]
    },
    {
      "cell_type": "code",
      "metadata": {
        "colab": {
          "base_uri": "https://localhost:8080/"
        },
        "id": "MkvD-KHh49Rv",
        "outputId": "da6db2f6-eaec-4d2f-8a62-62329c71401b"
      },
      "source": [
        "from nltk.stem import WordNetLemmatizer\n",
        "nltk.download('wordnet')\n",
        " \n",
        "lem = WordNetLemmatizer()\n",
        " \n",
        "# pos defines if the input word is a verb, adjective, noun etc.\n",
        "print(\"sang\", lem.lemmatize(\"sang\", pos='v'))\n",
        "print(\"corpora\", lem.lemmatize(\"corpora\"))\n",
        "print(\"better\", lem.lemmatize(\"better\", pos='a'))"
      ],
      "execution_count": 41,
      "outputs": [
        {
          "output_type": "stream",
          "name": "stdout",
          "text": [
            "[nltk_data] Downloading package wordnet to /root/nltk_data...\n",
            "[nltk_data]   Unzipping corpora/wordnet.zip.\n",
            "sang sing\n",
            "corpora corpus\n",
            "better good\n"
          ]
        }
      ]
    },
    {
      "cell_type": "code",
      "metadata": {
        "id": "ULpFi-nK9-kh",
        "colab": {
          "base_uri": "https://localhost:8080/"
        },
        "outputId": "134dffeb-2917-4bec-8418-941528335347"
      },
      "source": [
        "import nltk\n",
        "nltk.download('stopwords') \n",
        "from nltk.corpus import stopwords \n",
        "from sklearn.feature_extraction.text import TfidfVectorizer\n",
        "from sklearn.metrics.pairwise import cosine_similarity\n",
        "\n",
        "corpus = ['I work as a research in the field of computer science.',\n",
        "          'Artificial intelligence is a field of computer science',\n",
        "          'I work as a chemical engineer',]\n",
        "stop_words = set(stopwords.words('english')) \n",
        "vectorizer = TfidfVectorizer(stop_words=stop_words)\n",
        "\n",
        "#compute tf_idf for each sentence in the corpus\n",
        "tf_idf = vectorizer.fit_transform(corpus)\n",
        "\n",
        "# 1.0 is the maximum and 0.0 is the minimum similarity\n",
        "print('The cosine similarity of the 1st and the 2nd document is: ', \n",
        "      cosine_similarity(tf_idf[0], tf_idf[1])[0][0])\n",
        "print('The cosine similarity of the 1st and the 1st document is: ', \n",
        "      cosine_similarity(tf_idf[0], tf_idf[0])[0][0])\n",
        "print('The cosine similarity of the 1st and the 3rd document is: ', \n",
        "      cosine_similarity(tf_idf[0], tf_idf[2])[0][0])\n",
        "print('The cosine similarity of the 3rd and the 2nd document is: ', \n",
        "      cosine_similarity(tf_idf[2], tf_idf[1])[0][0])"
      ],
      "execution_count": 42,
      "outputs": [
        {
          "output_type": "stream",
          "name": "stdout",
          "text": [
            "[nltk_data] Downloading package stopwords to /root/nltk_data...\n",
            "[nltk_data]   Package stopwords is already up-to-date!\n",
            "The cosine similarity of the 1st and the 2nd document is:  0.49322195070222535\n",
            "The cosine similarity of the 1st and the 1st document is:  1.0000000000000002\n",
            "The cosine similarity of the 1st and the 3rd document is:  0.19788044431907245\n",
            "The cosine similarity of the 3rd and the 2nd document is:  0.0\n"
          ]
        }
      ]
    },
    {
      "cell_type": "code",
      "metadata": {
        "id": "3Ev92IjCdI3n"
      },
      "source": [
        ""
      ],
      "execution_count": null,
      "outputs": []
    }
  ]
}