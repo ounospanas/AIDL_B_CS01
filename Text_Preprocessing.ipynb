{
  "nbformat": 4,
  "nbformat_minor": 0,
  "metadata": {
    "colab": {
      "name": "Text Preprocessing",
      "provenance": [],
      "authorship_tag": "ABX9TyPcj5WLgCAAH67vqoZ4s4vQ",
      "include_colab_link": true
    },
    "kernelspec": {
      "name": "python3",
      "display_name": "Python 3"
    },
    "language_info": {
      "name": "python"
    }
  },
  "cells": [
    {
      "cell_type": "markdown",
      "metadata": {
        "id": "view-in-github",
        "colab_type": "text"
      },
      "source": [
        "<a href=\"https://colab.research.google.com/github/ounospanas/AIDL_B_CS01/blob/main/Text_Preprocessing.ipynb\" target=\"_parent\"><img src=\"https://colab.research.google.com/assets/colab-badge.svg\" alt=\"Open In Colab\"/></a>"
      ]
    },
    {
      "cell_type": "code",
      "metadata": {
        "colab": {
          "base_uri": "https://localhost:8080/"
        },
        "id": "HrpjqssFNRaj",
        "outputId": "d3ae170d-4e50-4cef-de4c-69ec96054906"
      },
      "source": [
        "import re\n",
        "sentence = 'Hi there! I am Panagiotis.'\n",
        "print(re.match('Hi', sentence))"
      ],
      "execution_count": 1,
      "outputs": [
        {
          "output_type": "stream",
          "name": "stdout",
          "text": [
            "<re.Match object; span=(0, 2), match='Hi'>\n"
          ]
        }
      ]
    },
    {
      "cell_type": "code",
      "metadata": {
        "colab": {
          "base_uri": "https://localhost:8080/"
        },
        "id": "Qj_SbCDFNSsb",
        "outputId": "f7fa4c93-9782-4d9e-f477-aa6ab4ef535e"
      },
      "source": [
        "\"\"\" w+ finds the first alphanumeric character and then check the next character and if it is alphanumeric\n",
        "then include it in the match too, repeat until you run into a non-alphanumeric character. \"\"\"\n",
        "\n",
        "word_regex = '\\w+'\n",
        "print(re.match(word_regex, sentence))"
      ],
      "execution_count": 2,
      "outputs": [
        {
          "output_type": "stream",
          "name": "stdout",
          "text": [
            "<re.Match object; span=(0, 2), match='Hi'>\n"
          ]
        }
      ]
    },
    {
      "cell_type": "code",
      "metadata": {
        "colab": {
          "base_uri": "https://localhost:8080/"
        },
        "id": "jilC80n1OChK",
        "outputId": "d04ac3a9-7af7-43ea-ed27-705e5e52f611"
      },
      "source": [
        "word_regex = '\\s'\n",
        "print(re.split(word_regex, sentence))"
      ],
      "execution_count": 3,
      "outputs": [
        {
          "output_type": "stream",
          "name": "stdout",
          "text": [
            "['Hi', 'there!', 'I', 'am', 'Panagiotis.']\n"
          ]
        }
      ]
    },
    {
      "cell_type": "code",
      "metadata": {
        "colab": {
          "base_uri": "https://localhost:8080/"
        },
        "id": "8b3w__ixPsof",
        "outputId": "3f0a5af4-5546-4b4a-95bd-163ea4177f15"
      },
      "source": [
        "word_regex = '\\s'\n",
        "print(re.search(word_regex, sentence))"
      ],
      "execution_count": 4,
      "outputs": [
        {
          "output_type": "stream",
          "name": "stdout",
          "text": [
            "<re.Match object; span=(2, 3), match=' '>\n"
          ]
        }
      ]
    },
    {
      "cell_type": "code",
      "metadata": {
        "colab": {
          "base_uri": "https://localhost:8080/"
        },
        "id": "G3SAe69bRDlb",
        "outputId": "1cf50dad-82c0-4b7a-fe4f-724d08b856aa"
      },
      "source": [
        "#re.match searches only at the beggining of the text\n",
        "word_regex = '\\s'\n",
        "print(re.match(word_regex, sentence))"
      ],
      "execution_count": 5,
      "outputs": [
        {
          "output_type": "stream",
          "name": "stdout",
          "text": [
            "None\n"
          ]
        }
      ]
    },
    {
      "cell_type": "code",
      "metadata": {
        "colab": {
          "base_uri": "https://localhost:8080/"
        },
        "id": "xDnYw52ARb6p",
        "outputId": "ce7f1aec-b51d-47b8-d967-5180d5a0683c"
      },
      "source": [
        "#re.find_all searches everywhere\n",
        "word_regex = '\\s'\n",
        "print(re.findall(word_regex, sentence))"
      ],
      "execution_count": 6,
      "outputs": [
        {
          "output_type": "stream",
          "name": "stdout",
          "text": [
            "[' ', ' ', ' ', ' ']\n"
          ]
        }
      ]
    },
    {
      "cell_type": "code",
      "metadata": {
        "colab": {
          "base_uri": "https://localhost:8080/"
        },
        "id": "gDvmbInoRgI1",
        "outputId": "1696752e-9973-4ed9-ffe1-30d28e7d0532"
      },
      "source": [
        "import re\n",
        "\n",
        "# Write a pattern to match sentence endings: sentence_endings\n",
        "# The letter ‘r’ stands for ‘raw string’.\n",
        "sentence_endings = r\"[.?!]\"\n",
        "\n",
        "# Split my_string on sentence endings and print the result\n",
        "print(re.split(sentence_endings, sentence))\n",
        "\n",
        "# Find all capitalized words in my_string and print the result\n",
        "capitalized_words = r\"[A-Z]\\w+\"\n",
        "print(re.findall(capitalized_words,sentence))\n",
        "\n",
        "# Split my_string on spaces and print the result\n",
        "spaces = r\"\\s+\"\n",
        "print(re.split(spaces, sentence))\n",
        "\n",
        "# Find all digits in my_string and print the result\n",
        "digits = r\"\\d+\"\n",
        "print(re.findall(digits, sentence))\n"
      ],
      "execution_count": 7,
      "outputs": [
        {
          "output_type": "stream",
          "name": "stdout",
          "text": [
            "['Hi there', ' I am Panagiotis', '']\n",
            "['Hi', 'Panagiotis']\n",
            "['Hi', 'there!', 'I', 'am', 'Panagiotis.']\n",
            "[]\n"
          ]
        }
      ]
    },
    {
      "cell_type": "code",
      "metadata": {
        "colab": {
          "base_uri": "https://localhost:8080/"
        },
        "id": "vIj6MaHcTQLB",
        "outputId": "e4cb98fe-23eb-430b-d2ec-b42fd9c23cf3"
      },
      "source": [
        "import nltk\n",
        "nltk.download('punkt')\n",
        "from nltk.tokenize import word_tokenize\n",
        "\n",
        "sentence = \"I don't feel well today...\"\n",
        "word_tokenize(sentence)"
      ],
      "execution_count": 8,
      "outputs": [
        {
          "output_type": "stream",
          "name": "stderr",
          "text": [
            "[nltk_data] Downloading package punkt to /root/nltk_data...\n",
            "[nltk_data]   Package punkt is already up-to-date!\n"
          ]
        },
        {
          "output_type": "execute_result",
          "data": {
            "text/plain": [
              "['I', 'do', \"n't\", 'feel', 'well', 'today', '...']"
            ]
          },
          "metadata": {},
          "execution_count": 8
        }
      ]
    },
    {
      "cell_type": "code",
      "metadata": {
        "id": "z8JlG7OQUnQl",
        "colab": {
          "base_uri": "https://localhost:8080/"
        },
        "outputId": "cb245652-9456-45a8-ae4a-d146afe3fdef"
      },
      "source": [
        "import re\n",
        "match_digits_and_words = ('[A-Za-z]+|[!,]')\n",
        "re.findall(match_digits_and_words,'Moreover, I scored 3 goals tonight! #football')"
      ],
      "execution_count": 9,
      "outputs": [
        {
          "output_type": "execute_result",
          "data": {
            "text/plain": [
              "['Moreover', ',', 'I', 'scored', 'goals', 'tonight', '!', 'football']"
            ]
          },
          "metadata": {},
          "execution_count": 9
        }
      ]
    },
    {
      "cell_type": "code",
      "metadata": {
        "colab": {
          "base_uri": "https://localhost:8080/",
          "height": 465
        },
        "id": "RXDt2S4ewlWG",
        "outputId": "ac992626-4dbe-4a6a-e91e-431b429826af"
      },
      "source": [
        "import nltk\n",
        "nltk.download('punkt')\n",
        "\n",
        "from matplotlib import pyplot as plt\n",
        "from nltk.tokenize import word_tokenize\n",
        "words = word_tokenize(\"This is the best course ever!!!\")\n",
        "#print('Words:',words)\n",
        "\n",
        "word_lengths = [len(w) for w in words]\n",
        "#print('Word lengths:', word_lengths)\n",
        "\n",
        "plt.hist(word_lengths)\n",
        "plt.show()"
      ],
      "execution_count": 10,
      "outputs": [
        {
          "output_type": "stream",
          "name": "stderr",
          "text": [
            "[nltk_data] Downloading package punkt to /root/nltk_data...\n",
            "[nltk_data]   Package punkt is already up-to-date!\n"
          ]
        },
        {
          "output_type": "display_data",
          "data": {
            "text/plain": [
              "<Figure size 640x480 with 1 Axes>"
            ],
            "image/png": "[encoded data removed]"
          },
          "metadata": {}
        }
      ]
    },
    {
      "cell_type": "code",
      "metadata": {
        "colab": {
          "base_uri": "https://localhost:8080/"
        },
        "id": "3DERIp_Wztt3",
        "outputId": "09bb73c1-8fd8-42a5-b629-713d672c4bd2"
      },
      "source": [
        "from nltk.tokenize import word_tokenize\n",
        "from collections import Counter\n",
        "counter = Counter(word_tokenize(\"\"\"a dog barked at a cat.\"\"\"))\n",
        "counter"
      ],
      "execution_count": 11,
      "outputs": [
        {
          "output_type": "execute_result",
          "data": {
            "text/plain": [
              "Counter({'a': 2, 'dog': 1, 'barked': 1, 'at': 1, 'cat': 1, '.': 1})"
            ]
          },
          "metadata": {},
          "execution_count": 11
        }
      ]
    },
    {
      "cell_type": "code",
      "metadata": {
        "colab": {
          "base_uri": "https://localhost:8080/"
        },
        "id": "eKGgrwJh215x",
        "outputId": "4177527b-cc73-4add-bf9d-ace4ee8a826d"
      },
      "source": [
        "import nltk\n",
        "nltk.download('stopwords')\n",
        "\n",
        "from nltk.corpus import stopwords\n",
        "text = \"\"\"a dog barked at a cat.\"\"\"\n",
        "tokens = [w for w in word_tokenize(text.lower())]\n",
        "no_stops = [t for t in tokens if t not in stopwords.words('english')]\n",
        "no_stops"
      ],
      "execution_count": 12,
      "outputs": [
        {
          "output_type": "stream",
          "name": "stderr",
          "text": [
            "[nltk_data] Downloading package stopwords to /root/nltk_data...\n",
            "[nltk_data]   Package stopwords is already up-to-date!\n"
          ]
        },
        {
          "output_type": "execute_result",
          "data": {
            "text/plain": [
              "['dog', 'barked', 'cat', '.']"
            ]
          },
          "metadata": {},
          "execution_count": 12
        }
      ]
    },
    {
      "cell_type": "code",
      "metadata": {
        "colab": {
          "base_uri": "https://localhost:8080/"
        },
        "id": "xWeRptMn26Ch",
        "outputId": "58b0e6ba-9143-4c99-dc7d-73ea1cd0c46b"
      },
      "source": [
        "from nltk.stem import PorterStemmer\n",
        "from nltk.tokenize import word_tokenize\n",
        "\n",
        "ps = PorterStemmer()\n",
        "words = [\"jump\", \"jumped\", \"jumping\", \"jumps\"]\n",
        "\n",
        "for w in words:\n",
        "    print(w, ps.stem(w))"
      ],
      "execution_count": 13,
      "outputs": [
        {
          "output_type": "stream",
          "name": "stdout",
          "text": [
            "jump jump\n",
            "jumped jump\n",
            "jumping jump\n",
            "jumps jump\n"
          ]
        }
      ]
    },
    {
      "cell_type": "code",
      "metadata": {
        "colab": {
          "base_uri": "https://localhost:8080/"
        },
        "id": "MkvD-KHh49Rv",
        "outputId": "1c39602b-b1d7-4d09-c106-e96991ebb8b7"
      },
      "source": [
        "nltk.download('omw-1.4')\n",
        "from nltk.stem import WordNetLemmatizer\n",
        "nltk.download('wordnet')\n",
        "\n",
        "lem = WordNetLemmatizer()\n",
        "\n",
        "# pos defines if the input word is a verb, adjective, noun etc.\n",
        "print(\"sang\", lem.lemmatize(\"sang\", pos='v'))\n",
        "print(\"corpora\", lem.lemmatize(\"corpora\"))\n",
        "print(\"better\", lem.lemmatize(\"better\", pos='a'))"
      ],
      "execution_count": 14,
      "outputs": [
        {
          "output_type": "stream",
          "name": "stderr",
          "text": [
            "[nltk_data] Downloading package omw-1.4 to /root/nltk_data...\n",
            "[nltk_data]   Package omw-1.4 is already up-to-date!\n",
            "[nltk_data] Downloading package wordnet to /root/nltk_data...\n",
            "[nltk_data]   Package wordnet is already up-to-date!\n"
          ]
        },
        {
          "output_type": "stream",
          "name": "stdout",
          "text": [
            "sang sing\n",
            "corpora corpus\n",
            "better good\n"
          ]
        }
      ]
    },
    {
      "cell_type": "code",
      "metadata": {
        "id": "ULpFi-nK9-kh",
        "colab": {
          "base_uri": "https://localhost:8080/"
        },
        "outputId": "672e7294-b025-4cf5-b16c-aae71e182377"
      },
      "source": [
        "import nltk\n",
        "nltk.download('stopwords')\n",
        "from nltk.corpus import stopwords\n",
        "from sklearn.feature_extraction.text import TfidfVectorizer\n",
        "from sklearn.metrics.pairwise import cosine_similarity\n",
        "\n",
        "corpus = ['I work as a research in the field of computer science.',\n",
        "          'Artificial intelligence is a field of computer science',\n",
        "          'I work as a chemical engineer',]\n",
        "stop_words = set(stopwords.words('english'))\n",
        "vectorizer = TfidfVectorizer(stop_words=list(stop_words))\n",
        "\n",
        "#compute tf_idf for each sentence in the corpus\n",
        "tf_idf = vectorizer.fit_transform(corpus)\n",
        "\n",
        "# 1.0 is the maximum and 0.0 is the minimum similarity\n",
        "print('The cosine similarity of the 1st and the 2nd document is: ',\n",
        "      cosine_similarity(tf_idf[0], tf_idf[1])[0][0])\n",
        "print('The cosine similarity of the 1st and the 1st document is: ',\n",
        "      cosine_similarity(tf_idf[0], tf_idf[0])[0][0])\n",
        "print('The cosine similarity of the 1st and the 3rd document is: ',\n",
        "      cosine_similarity(tf_idf[0], tf_idf[2])[0][0])\n",
        "print('The cosine similarity of the 3rd and the 2nd document is: ',\n",
        "      cosine_similarity(tf_idf[2], tf_idf[1])[0][0])"
      ],
      "execution_count": 15,
      "outputs": [
        {
          "output_type": "stream",
          "name": "stdout",
          "text": [
            "The cosine similarity of the 1st and the 2nd document is:  0.49322195070222535\n",
            "The cosine similarity of the 1st and the 1st document is:  1.0000000000000002\n",
            "The cosine similarity of the 1st and the 3rd document is:  0.19788044431907245\n",
            "The cosine similarity of the 3rd and the 2nd document is:  0.0\n"
          ]
        },
        {
          "output_type": "stream",
          "name": "stderr",
          "text": [
            "[nltk_data] Downloading package stopwords to /root/nltk_data...\n",
            "[nltk_data]   Package stopwords is already up-to-date!\n"
          ]
        }
      ]
    },
    {
      "cell_type": "code",
      "source": [],
      "metadata": {
        "id": "qW5YtJ_UYhcE"
      },
      "execution_count": null,
      "outputs": []
    }
  ]
}